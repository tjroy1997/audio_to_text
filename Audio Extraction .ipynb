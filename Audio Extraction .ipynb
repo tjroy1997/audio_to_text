{
 "cells": [
  {
   "cell_type": "code",
   "execution_count": 43,
   "id": "798889a9",
   "metadata": {},
   "outputs": [],
   "source": [
    "import speech_recognition as sr\n",
    "r=sr.Recognizer()\n"
   ]
  },
  {
   "cell_type": "code",
   "execution_count": 45,
   "id": "72db32b3",
   "metadata": {},
   "outputs": [
    {
     "name": "stdout",
     "output_type": "stream",
     "text": [
      "Fetching file\n",
      "Converting to text\n",
      "[\"welcome to this guided meditation that will help you build your confidence first let's find a comfortable place to sit and minimize any distractions close your eyes and begin to take some slow deep breaths breathing from your nose and breathe out from your mouth take a deep breath in and a deep breath out allow yourself to settle into a peaceful meditative State Begin by bringing a real life situation to mind where you want to be able to stay step into a state of confidence it could be a conversation you need to have a presentation you have to deliver or setting a meaningful goal and discussing it with somebody play the scenario in your mind in the most positive way you would like the situation to unfold visualize it like a movie and visualize the completion where you end with the most positive outcome just the way you wanted to be take in everything you see here and feel what's around you notice how much confidence you have and how amazing that feeling is be in that moment feel the energy visualize yourself Standing Tall and confident and handling the situation just the way you would want it to be and now bring your awareness back to your breath feeling totally energetic and confident take a deep breath in and as you breathe out feel all the stress going out from your mouth take another deep breath in and a deep breath out now rub your palms generating some warm place them on your eyes and open your eyes when you are ready hope you handle your day confidently today thank you for joining us in this meditation\"]\n"
     ]
    }
   ],
   "source": [
    "def Conversion(file,lang):\n",
    "    text_new=[]\n",
    "    with sr.AudioFile(file)as source:\n",
    "        print(\"Fetching file\")\n",
    "        audio_text=r.listen(source)\n",
    "        try:\n",
    "            print(\"Converting to text\")\n",
    "            text=r.recognize_google(audio_text,language=lang)\n",
    "            text_new.append(text)\n",
    "        except:\n",
    "            print(\"Sorry,run again\")\n",
    "    print(text_new)\n",
    "            \n",
    "if __name__==\"__main__\":\n",
    "    Conversion(\"Meditation to build confidence.wav\",\"en=IN\")\n",
    "        "
   ]
  },
  {
   "cell_type": "code",
   "execution_count": null,
   "id": "e8a8bcf5",
   "metadata": {},
   "outputs": [],
   "source": []
  },
  {
   "cell_type": "code",
   "execution_count": null,
   "id": "5cf3b274",
   "metadata": {},
   "outputs": [],
   "source": []
  }
 ],
 "metadata": {
  "kernelspec": {
   "display_name": "Python 3 (ipykernel)",
   "language": "python",
   "name": "python3"
  },
  "language_info": {
   "codemirror_mode": {
    "name": "ipython",
    "version": 3
   },
   "file_extension": ".py",
   "mimetype": "text/x-python",
   "name": "python",
   "nbconvert_exporter": "python",
   "pygments_lexer": "ipython3",
   "version": "3.9.7"
  }
 },
 "nbformat": 4,
 "nbformat_minor": 5
}
