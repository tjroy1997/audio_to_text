{
 "cells": [
  {
   "cell_type": "code",
   "execution_count": 32,
   "id": "0ce15607",
   "metadata": {},
   "outputs": [],
   "source": [
    "import speech_recognition as sr\n",
    "r=sr.Recognizer()\n"
   ]
  },
  {
   "cell_type": "code",
   "execution_count": null,
   "id": "d93119a7",
   "metadata": {},
   "outputs": [
    {
     "name": "stdout",
     "output_type": "stream",
     "text": [
      "Fetching file\n",
      "Converting to text\n"
     ]
    }
   ],
   "source": [
    "def Conversion(file,lang):\n",
    "    text=[]\n",
    "    with sr.AudioFile(file)as source:\n",
    "        print(\"Fetching file\")\n",
    "        audio_text=r.listen(source)\n",
    "        try:\n",
    "            print(\"Converting to text\")\n",
    "            text=r.recognize_google(audio_text,language=lang)\n",
    "            all_.append(text)\n",
    "        except:\n",
    "            print(\"Sorry,run again\")\n",
    "    print(text)\n",
    "            \n",
    "if __name__==\"__main__\":\n",
    "    Conversion(\"Meditation to build confidence.wav\",\"en=IN\")\n",
    "        "
   ]
  },
  {
   "cell_type": "code",
   "execution_count": null,
   "id": "7778733b",
   "metadata": {},
   "outputs": [],
   "source": []
  },
  {
   "cell_type": "code",
   "execution_count": null,
   "id": "bf2b1817",
   "metadata": {},
   "outputs": [],
   "source": []
  }
 ],
 "metadata": {
  "kernelspec": {
   "display_name": "Python 3 (ipykernel)",
   "language": "python",
   "name": "python3"
  },
  "language_info": {
   "codemirror_mode": {
    "name": "ipython",
    "version": 3
   },
   "file_extension": ".py",
   "mimetype": "text/x-python",
   "name": "python",
   "nbconvert_exporter": "python",
   "pygments_lexer": "ipython3",
   "version": "3.9.7"
  }
 },
 "nbformat": 4,
 "nbformat_minor": 5
}
